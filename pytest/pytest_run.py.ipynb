{
 "cells": [
  {
   "cell_type": "code",
   "execution_count": 0,
   "metadata": {
    "application/vnd.databricks.v1+cell": {
     "cellMetadata": {
      "byteLimit": 2048000,
      "rowLimit": 10000
     },
     "inputWidgets": {},
     "nuid": "059cf434-f087-4452-b13b-87daa553606c",
     "showTitle": false,
     "tableResultSettingsMap": {},
     "title": ""
    }
   },
   "outputs": [],
   "source": [
    "%python\n",
    "%pip install pytest\n",
    "%pip install openpyxl\n",
    "%pip install coverage"
   ]
  },
  {
   "cell_type": "code",
   "execution_count": 0,
   "metadata": {
    "application/vnd.databricks.v1+cell": {
     "cellMetadata": {
      "byteLimit": 2048000,
      "implicitDf": true,
      "rowLimit": 10000
     },
     "inputWidgets": {},
     "nuid": "3df23623-b13c-464c-9519-0a6b0c106342",
     "showTitle": false,
     "tableResultSettingsMap": {},
     "title": ""
    }
   },
   "outputs": [],
   "source": [
    "import pytest\n",
    "import sys\n",
    "import coverage\n",
    "\n",
    "cov = coverage.Coverage(source=['./src/'])\n",
    "cov.start()\n",
    "\n",
    "sys.dont_write_bytecode = True\n",
    "\n",
    "retcode = pytest.main([\n",
    "    \"tests\",\n",
    "    \"-v\",\n",
    "    \"-p\",\n",
    "    \"no:cacheprovider\",\n",
    "    \"--disable-warnings\",\n",
    "    \"--maxfail=5\"\n",
    "])\n",
    "print(f\"pytest return code: {retcode}\")\n",
    "cov.stop()\n",
    "cov.save()\n",
    "try:\n",
    "    cov.report()\n",
    "except coverage.CoverageException as e:\n",
    "    print(f\"Coverage error: {e}\")"
   ]
  }
 ],
 "metadata": {
  "application/vnd.databricks.v1+notebook": {
   "computePreferences": {
    "hardware": {
     "accelerator": null,
     "gpuPoolId": null,
     "memory": null
    }
   },
   "dashboards": [],
   "environmentMetadata": {
    "base_environment": "",
    "environment_version": "2"
   },
   "inputWidgetPreferences": null,
   "language": "python",
   "notebookMetadata": {
    "mostRecentlyExecutedCommandWithImplicitDF": {
     "commandId": -1,
     "dataframes": [
      "_sqldf"
     ]
    },
    "pythonIndentUnit": 4
   },
   "notebookName": "pytest_run.py",
   "widgets": {}
  },
  "language_info": {
   "name": "python"
  }
 },
 "nbformat": 4,
 "nbformat_minor": 0
}
